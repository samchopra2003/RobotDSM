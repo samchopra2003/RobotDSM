{
 "cells": [
  {
   "cell_type": "code",
   "execution_count": 1,
   "metadata": {},
   "outputs": [],
   "source": [
    "import numpy as np\n",
    "import matplotlib.pyplot as plt\n",
    "import os"
   ]
  },
  {
   "cell_type": "code",
   "execution_count": 2,
   "metadata": {},
   "outputs": [],
   "source": [
    "normal_walk_dir = '../data'\n",
    "\n",
    "spikes_or_bl_file = os.path.join(normal_walk_dir, 'spikes_or_bl.txt')\n",
    "spikes_not_bl_file = os.path.join(normal_walk_dir, 'spikes_not_bl.txt')\n",
    "\n",
    "spikes_or_fr_file = os.path.join(normal_walk_dir, 'spikes_or_fr.txt')\n",
    "spikes_not_fr_file = os.path.join(normal_walk_dir, 'spikes_not_fr.txt')\n",
    "\n",
    "spikes_or_br_file = os.path.join(normal_walk_dir, 'spikes_or_br.txt')\n",
    "spikes_not_br_file = os.path.join(normal_walk_dir, 'spikes_not_br.txt')\n",
    "\n",
    "spikes_or_fl_file = os.path.join(normal_walk_dir, 'spikes_or_fl.txt')\n",
    "spikes_not_fl_file = os.path.join(normal_walk_dir, 'spikes_not_fl.txt')\n",
    "\n",
    "\n",
    "\n",
    "spikes_or_bl = []\n",
    "spikes_not_bl = []\n",
    "spikes_or_fr = []\n",
    "spikes_not_fr = []\n",
    "spikes_or_br = []\n",
    "spikes_not_br = []\n",
    "spikes_or_fl = []\n",
    "spikes_not_fl = []\n",
    "\n",
    "\n",
    "\n",
    "with open(spikes_or_bl_file, 'r') as file:\n",
    "    for line in file:\n",
    "        spikes_or_bl.append(float(line.strip()))\n",
    "\n",
    "with open(spikes_not_bl_file, 'r') as file:\n",
    "    for line in file:\n",
    "        spikes_not_bl.append(float(line.strip()))\n",
    "\n",
    "with open(spikes_or_fr_file, 'r') as file:\n",
    "    for line in file:\n",
    "        spikes_or_fr.append(float(line.strip()))\n",
    "\n",
    "with open(spikes_not_fr_file, 'r') as file:\n",
    "    for line in file:\n",
    "        spikes_not_fr.append(float(line.strip()))\n",
    "\n",
    "with open(spikes_or_br_file, 'r') as file:\n",
    "    for line in file:\n",
    "        spikes_or_br.append(float(line.strip()))\n",
    "\n",
    "with open(spikes_not_br_file, 'r') as file:\n",
    "    for line in file:\n",
    "        spikes_not_br.append(float(line.strip()))\n",
    "\n",
    "with open(spikes_or_fl_file, 'r') as file:\n",
    "    for line in file:\n",
    "        spikes_or_fl.append(float(line.strip()))\n",
    "\n",
    "with open(spikes_not_fl_file, 'r') as file:\n",
    "    for line in file:\n",
    "        spikes_not_fl.append(float(line.strip()))"
   ]
  },
  {
   "cell_type": "code",
   "execution_count": 3,
   "metadata": {},
   "outputs": [
    {
     "name": "stderr",
     "output_type": "stream",
     "text": [
      "No artists with labels found to put in legend.  Note that artists whose label start with an underscore are ignored when legend() is called with no argument.\n"
     ]
    },
    {
     "data": {
      "text/plain": [
       "<matplotlib.legend.Legend at 0xedb2b610>"
      ]
     },
     "execution_count": 3,
     "metadata": {},
     "output_type": "execute_result"
    },
    {
     "data": {
      "image/png": "[encoded data removed]",
      "text/plain": [
       "<Figure size 640x480 with 1 Axes>"
      ]
     },
     "metadata": {},
     "output_type": "display_data"
    }
   ],
   "source": [
    "plt.figure()\n",
    "plt.eventplot([spikes_or_bl, spikes_not_bl, spikes_or_fl, spikes_not_fl], lw=0.1)\n",
    "plt.ylabel('Vm')\n",
    "plt.xlabel('Time [a.u.]')\n",
    "plt.legend(loc='best')"
   ]
  }
 ],
 "metadata": {
  "kernelspec": {
   "display_name": "Python 3",
   "language": "python",
   "name": "python3"
  },
  "language_info": {
   "codemirror_mode": {
    "name": "ipython",
    "version": 3
   },
   "file_extension": ".py",
   "mimetype": "text/x-python",
   "name": "python",
   "nbconvert_exporter": "python",
   "pygments_lexer": "ipython3",
   "version": "3.9.2"
  }
 },
 "nbformat": 4,
 "nbformat_minor": 2
}
